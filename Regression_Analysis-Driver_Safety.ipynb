{
 "cells": [
  {
   "cell_type": "markdown",
   "metadata": {},
   "source": [
    "# Regression Analysis of Driver Safety"
   ]
  },
  {
   "cell_type": "markdown",
   "metadata": {},
   "source": [
    "<div class=\"alert alert-block alert-success\"> The following <b>regression analysis</b> is used to determine the predictive power of Fleet Safety driver data. The data includes every field employee driver who was or was not involved in a traffic incident from 2016-2020. The two datasets used in this analysis are: <b>Driver Accidents</b> and <b>Driver Trainings</b>. The <b>purpose</b> of this analysis is to determine whether the <b>current data</b> we have is enough to move forward with a prescriptive ML model <b>OR</b> if we need to capture <b>more</b> attributes.  </div>"
   ]
  },
  {
   "cell_type": "markdown",
   "metadata": {},
   "source": [
    "## Packages"
   ]
  },
  {
   "cell_type": "markdown",
   "metadata": {},
   "source": [
    "<div class=\"alert alert-block alert-success\"> <b>Packages</b> that <b>may</b> need to be installed </div>"
   ]
  },
  {
   "cell_type": "code",
   "execution_count": 1,
   "metadata": {},
   "outputs": [],
   "source": [
    "# !python3 -mpip install statsmodels\n",
    "# !python3 -mpip install researchpy\n",
    "# !python3 -mpip install sklearn\n",
    "# !python3 -mpip install xgboost"
   ]
  },
  {
   "cell_type": "markdown",
   "metadata": {},
   "source": [
    "## Optional"
   ]
  },
  {
   "cell_type": "markdown",
   "metadata": {},
   "source": [
    "<div class=\"alert alert-block alert-success\"> Allows <b>multiple outputs</b> in one cell </div>"
   ]
  },
  {
   "cell_type": "code",
   "execution_count": 2,
   "metadata": {},
   "outputs": [],
   "source": [
    "# to have multiple outputs in one cell\n",
    "from IPython.core.interactiveshell import InteractiveShell\n",
    "InteractiveShell.ast_node_interactivity = \"all\""
   ]
  },
  {
   "cell_type": "markdown",
   "metadata": {},
   "source": [
    "## Modules"
   ]
  },
  {
   "cell_type": "markdown",
   "metadata": {},
   "source": [
    "<div class=\"alert alert-block alert-success\"> Modules to import / load  </div>"
   ]
  },
  {
   "cell_type": "code",
   "execution_count": null,
   "metadata": {},
   "outputs": [],
   "source": [
    "import re\n",
    "import xlrd\n",
    "import openpyxl\n",
    "from openpyxl import Workbook\n",
    "import xlsxwriter\n",
    "\n",
    "import pandas as pd\n",
    "from pandas import read_csv\n",
    "\n",
    "import numpy as np\n",
    "from numpy import mean, std \n",
    "\n",
    "from matplotlib import pyplot as plt\n",
    "import matplotlib.patches as mpatches\n",
    "import seaborn as sns\n",
    "%matplotlib inline\n",
    "\n",
    "import statsmodels.api as sm\n",
    "from statsmodels.sandbox.regression.predstd import wls_prediction_std\n",
    "from statsmodels.formula.api import ols\n",
    "\n",
    "import researchpy as rp\n",
    "\n",
    "import sklearn\n",
    "from sklearn import model_selection\n",
    "from sklearn.model_selection import train_test_split\n",
    "\n",
    "import xgboost\n",
    "from xgboost import XGBClassifier\n",
    "\n",
    "import warnings\n",
    "warnings.filterwarnings('ignore')"
   ]
  },
  {
   "cell_type": "markdown",
   "metadata": {},
   "source": [
    "## Original Datasets"
   ]
  },
  {
   "cell_type": "markdown",
   "metadata": {},
   "source": [
    "<div class=\"alert alert-block alert-success\"> Reading in original <b>ACCIDENTS</b> and <b>TRAINING</b> datasets  </div>"
   ]
  },
  {
   "cell_type": "code",
   "execution_count": 25,
   "metadata": {},
   "outputs": [],
   "source": [
    "accidents = pd.read_excel('accident_file.xlsx', engine='openpyxl')\n",
    "training = pd.read_excel('training_file.xlsx', engine='openpyxl')\n",
    "\n",
    "accidents.shape\n",
    "accidents.head()\n",
    "\n",
    "training.shape\n",
    "training.head()"
   ]
  },
  {
   "cell_type": "markdown",
   "metadata": {},
   "source": [
    "# Data Conditioning"
   ]
  },
  {
   "cell_type": "markdown",
   "metadata": {},
   "source": [
    "## Renaming employee id columns"
   ]
  },
  {
   "cell_type": "markdown",
   "metadata": {},
   "source": [
    "<div class=\"alert alert-block alert-success\"> Renaming <b>employee id</b> columns in BOTH datasets to have <b>same name</b> so we can left join on training dataset</div>"
   ]
  },
  {
   "cell_type": "code",
   "execution_count": 5,
   "metadata": {},
   "outputs": [],
   "source": [
    "# renaming id columns to same name to join dfs\n",
    "accidents.rename(columns={'Employee Number': 'employee_id'}, inplace=True)\n",
    "training.rename(columns={'Employee ID': 'employee_id'}, inplace=True)"
   ]
  },
  {
   "cell_type": "markdown",
   "metadata": {},
   "source": [
    "## Left joining dataframes"
   ]
  },
  {
   "cell_type": "markdown",
   "metadata": {},
   "source": [
    "<div class=\"alert alert-block alert-success\"> <b>LEFT joining</b> training and accidents dataframes onto training dataframe and making minor cleaning/shaping </div>"
   ]
  },
  {
   "cell_type": "code",
   "execution_count": 26,
   "metadata": {},
   "outputs": [],
   "source": [
    "#left join on training dataset\n",
    "df = pd.merge(training, accidents, on=\"employee_id\", how=\"left\")\n",
    "\n",
    "#converting all columns to lowercase and replacing spaces with underscore for easier use\n",
    "df.columns = df.columns.str.lower()\n",
    "df.columns = df.columns.str.replace(' ','_')\n",
    "\n",
    "#renaming column to provider for easier use\n",
    "df.rename(columns={'dc_5.0.education.education_provider': 'provider'}, inplace=True)\n",
    "\n",
    "#dropping duplicate records to ensure accurate results in later analysis\n",
    "df = df.drop_duplicates(subset=['employee_id', 'assigned_on_date'])\n",
    "\n",
    "df.shape\n",
    "df.head()"
   ]
  },
  {
   "cell_type": "code",
   "execution_count": 7,
   "metadata": {},
   "outputs": [],
   "source": [
    "accident_BEFORE_training = df\n",
    "accident_AFTER_training = df"
   ]
  },
  {
   "cell_type": "markdown",
   "metadata": {},
   "source": [
    "## Filtering to ONLY incidents BEFORE trainings assigned"
   ]
  },
  {
   "cell_type": "markdown",
   "metadata": {},
   "source": [
    "<div class=\"alert alert-block alert-success\"> Shaping <b>BEFORE training</b> dataframe</div>"
   ]
  },
  {
   "cell_type": "code",
   "execution_count": 27,
   "metadata": {},
   "outputs": [],
   "source": [
    "#ensuring that all date columns are referenced as datetime types\n",
    "accident_BEFORE_training['assigned_on_date'] = pd.to_datetime(accident_BEFORE_training['assigned_on_date'])\n",
    "accident_BEFORE_training['loss_date'] = pd.to_datetime(accident_BEFORE_training['loss_date'])\n",
    "\n",
    "#filtering columns and rows that got into incident BEFORE training was assigned\n",
    "accident_BEFORE_training = accident_BEFORE_training.loc[accident_BEFORE_training.assigned_on_date <= accident_BEFORE_training.loss_date]\n",
    "accident_BEFORE_training.shape\n",
    "accident_BEFORE_training.head()\n",
    "list(accident_BEFORE_training.columns)\n",
    "# accident_BEFORE_training.to_excel('accident_BEFORE_training1234.xlsx')"
   ]
  },
  {
   "cell_type": "markdown",
   "metadata": {},
   "source": [
    "## One-hot-encode - BEFORE TRAINING DF"
   ]
  },
  {
   "cell_type": "markdown",
   "metadata": {},
   "source": [
    "<div class=\"alert alert-block alert-success\"> One-hot-encoding <b>BEFORE training</b> dataframe with ONLY TRAINING modules and training PROVIDERS to compare with \"FULL\" and \"AFTER training\" datasets. This is to be able to use in ML model later since it is all <b>categorical data</b> </div>"
   ]
  },
  {
   "cell_type": "code",
   "execution_count": 28,
   "metadata": {},
   "outputs": [],
   "source": [
    "# one-hot-encode BEFORE_training df\n",
    "one_hot_encode = pd.crosstab(accident_BEFORE_training.employee_id, accident_BEFORE_training.education).gt(0).astype(int)\n",
    "provider = accident_BEFORE_training[['employee_id']].join(pd.get_dummies(accident_BEFORE_training['provider'])).groupby('employee_id').max()\n",
    "BEFORE_training = pd.concat([one_hot_encode, provider], axis=1)\n",
    "BEFORE_training['Total_Incidents'] = accident_BEFORE_training.groupby('employee_id')['claim_id'].nunique()\n",
    "BEFORE_training.columns = BEFORE_training.columns.str.lower()\n",
    "BEFORE_training.columns = BEFORE_training.columns.str.replace(' ','_')\n",
    "BEFORE_training.shape\n",
    "BEFORE_training.head()"
   ]
  },
  {
   "cell_type": "markdown",
   "metadata": {},
   "source": [
    "<div class=\"alert alert-block alert-success\"> One-hot-encoding \"AFTER training\" dataframe with only TRAINING modules and training PROVIDERS to compare with \"FULL\" and \"BEFORE training\" datasets. This is to be able to use in ML model later since it is all categorical data </div>"
   ]
  },
  {
   "cell_type": "code",
   "execution_count": 29,
   "metadata": {},
   "outputs": [],
   "source": [
    "one_hot_encode = pd.crosstab(df.employee_id, df.education).gt(0).astype(int)\n",
    "provider = df[['employee_id']].join(pd.get_dummies(df['provider'])).groupby('employee_id').max()\n",
    "onehot_df = pd.concat([one_hot_encode, provider], axis=1)\n",
    "\n",
    "#adding a column to record total number of incidents each employee has encountered\n",
    "onehot_df['Total_Incidents'] = df.groupby('employee_id')['claim_id'].nunique()\n",
    "\n",
    "onehot_df.columns = onehot_df.columns.str.lower()\n",
    "onehot_df.columns = onehot_df.columns.str.replace(' ','_')\n",
    "onehot_df.shape\n",
    "onehot_df.head()"
   ]
  },
  {
   "cell_type": "markdown",
   "metadata": {},
   "source": [
    "# Regression Analysis"
   ]
  },
  {
   "cell_type": "markdown",
   "metadata": {},
   "source": [
    "## Regression Analysis - COMBINED dataset (onehot_df) "
   ]
  },
  {
   "cell_type": "markdown",
   "metadata": {},
   "source": [
    "<div class=\"alert alert-block alert-success\"> Creating <b>X and Y variables</b> for regression analysis on <b>full dataframe </b>to identify statistical significance such as <b>R-squared value</b>, and determine predictive power  </div>"
   ]
  },
  {
   "cell_type": "code",
   "execution_count": 15,
   "metadata": {},
   "outputs": [
    {
     "data": {
      "text/plain": [
       "(3195, 34)"
      ]
     },
     "execution_count": 15,
     "metadata": {},
     "output_type": "execute_result"
    },
    {
     "data": {
      "text/plain": [
       "(3195, 1)"
      ]
     },
     "execution_count": 15,
     "metadata": {},
     "output_type": "execute_result"
    }
   ],
   "source": [
    "#selecting X variable\n",
    "X = onehot_df.iloc[:, :-1]\n",
    "X.shape\n",
    "\n",
    "#selecting Y variable\n",
    "Y = onehot_df.iloc[:, -1][:, None]\n",
    "Y.shape\n",
    "X_test = onehot_df"
   ]
  },
  {
   "cell_type": "markdown",
   "metadata": {},
   "source": [
    "<div class=\"alert alert-block alert-success\"> Creating <b>training</b> and <b>testing</b> datasets - test size is <b>20%</b>  </div>"
   ]
  },
  {
   "cell_type": "code",
   "execution_count": 16,
   "metadata": {},
   "outputs": [
    {
     "name": "stdout",
     "output_type": "stream",
     "text": [
      "(2556, 34)\n",
      "(639, 34)\n",
      "(2556, 1)\n",
      "(639, 1)\n"
     ]
    }
   ],
   "source": [
    "#creating training and testing datasets with test size at 20%\n",
    "X_train, X_test, y_train, y_test = train_test_split(X, Y, test_size=0.20, random_state=0)\n",
    "print(X_train.shape)\n",
    "print(X_test.shape)\n",
    "print(y_train.shape)\n",
    "print(y_test.shape)"
   ]
  },
  {
   "cell_type": "markdown",
   "metadata": {},
   "source": [
    "<div class=\"alert alert-block alert-success\"> <b>OLS Regression</b> results for FULL dataframe (onehot_df)  </div>"
   ]
  },
  {
   "cell_type": "code",
   "execution_count": 17,
   "metadata": {},
   "outputs": [
    {
     "name": "stdout",
     "output_type": "stream",
     "text": [
      "                            OLS Regression Results                            \n",
      "==============================================================================\n",
      "Dep. Variable:                      y   R-squared:                       0.290\n",
      "Model:                            OLS   Adj. R-squared:                  0.281\n",
      "Method:                 Least Squares   F-statistic:                     33.26\n",
      "Date:                Mon, 26 Jul 2021   Prob (F-statistic):          9.40e-163\n",
      "Time:                        19:27:04   Log-Likelihood:                -1414.8\n",
      "No. Observations:                2556   AIC:                             2894.\n",
      "Df Residuals:                    2524   BIC:                             3081.\n",
      "Df Model:                          31                                         \n",
      "Covariance Type:            nonrobust                                         \n",
      "=============================================================================================================================\n",
      "                                                                coef    std err          t      P>|t|      [0.025      0.975]\n",
      "-----------------------------------------------------------------------------------------------------------------------------\n",
      "const                                                         0.0180      0.139      0.130      0.897      -0.255       0.291\n",
      "fleet_driver's_reference_manual                               0.0697      0.080      0.870      0.384      -0.087       0.227\n",
      "fleet_vehicle_personal_use_fees_attestation_-_puerto_rico     0.0745      0.097      0.765      0.444      -0.116       0.266\n",
      "r&d_commentary_drive_policy_module                           -0.0419      0.053     -0.799      0.424      -0.145       0.061\n",
      "avoiding_aggressive_driving                                  -0.0579      0.093     -0.619      0.536      -0.241       0.125\n",
      "avoiding_animal-vehicle_collisions                            0.3792      0.069      5.513      0.000       0.244       0.514\n",
      "avoiding_collisions_while_changing_lanes                      0.3642      0.071      5.127      0.000       0.225       0.504\n",
      "avoiding_collisions_at_intersections                         -0.0701      0.074     -0.953      0.341      -0.214       0.074\n",
      "avoiding_collisions_in_parking_lots                           0.3757      0.034     10.910      0.000       0.308       0.443\n",
      "avoiding_distracted_driving                                   0.3301      0.033     10.141      0.000       0.266       0.394\n",
      "avoiding_rear-end_collisions_-_what_you_can_do                0.0035      0.096      0.037      0.971      -0.184       0.191\n",
      "coaching_the_one_second_advantage                             0.4488      0.424      1.059      0.290      -0.383       1.280\n",
      "distracted_driving:_an_accident_waiting_to_happen             0.0553      0.070      0.792      0.428      -0.082       0.192\n",
      "drive_aloud                                                  -0.0316      0.032     -1.003      0.316      -0.093       0.030\n",
      "driving_choice_fees_acknowledgement                           0.0310      0.019      1.610      0.108      -0.007       0.069\n",
      "managing_your_time_and_speed                                  0.0180      0.030      0.600      0.549      -0.041       0.077\n",
      "mini:_driving_in_the_rain                                    -0.2094      0.063     -3.313      0.001      -0.333      -0.085\n",
      "mini:_properly_maintaining_your_business_vehicle             -0.3544      0.437     -0.811      0.417      -1.211       0.502\n",
      "mini:_seatbelts_and_airbags_-_using_them_most_effectively     0.5564      0.174      3.200      0.001       0.215       0.897\n",
      "mini:_winter_at_the_wheel                                     0.5308      0.425      1.250      0.211      -0.302       1.363\n",
      "pcyc_(us)_fleet_safety_manual                                -0.1438      0.081     -1.784      0.075      -0.302       0.014\n",
      "preventing_rear-end_collisions                                0.3568      0.047      7.578      0.000       0.264       0.449\n",
      "ready_to_drive                                               -0.0110      0.103     -0.107      0.915      -0.214       0.192\n",
      "rearview_defensive_driving                                    0.0146      0.080      0.183      0.855      -0.141       0.171\n",
      "road_to_safety                                             2.427e+12   1.36e+12      1.784      0.075   -2.41e+11     5.1e+12\n",
      "school_traffic_safety                                        -0.0283      0.103     -0.274      0.784      -0.231       0.174\n",
      "smith_systems_–_behind_the_wheel                           2.367e+11   1.33e+11      1.784      0.075   -2.35e+10    4.97e+11\n",
      "speeding:_fast_lane_to_disaster                            1.121e+08   6.28e+07      1.784      0.075   -1.11e+07    2.35e+08\n",
      "the_one_second_advantage                                      0.1845      0.430      0.429      0.668      -0.659       1.028\n",
      "understanding_traffic_signals_and_signs                      -0.0390      0.135     -0.289      0.773      -0.303       0.226\n",
      "vehicle_ergonomics                                            0.0096      0.091      0.106      0.916      -0.169       0.188\n",
      "cei_mcs_-_aicc                                               -0.0675      0.076     -0.884      0.377      -0.217       0.082\n",
      "drivercare                                                   -0.0048      0.124     -0.038      0.969      -0.248       0.239\n",
      "mobedia                                                   -2.427e+12   1.36e+12     -1.784      0.075    -5.1e+12    2.41e+11\n",
      "smith_system                                              -2.367e+11   1.33e+11     -1.784      0.075   -4.97e+11    2.35e+10\n",
      "==============================================================================\n",
      "Omnibus:                     2594.677   Durbin-Watson:                   1.958\n",
      "Prob(Omnibus):                  0.000   Jarque-Bera (JB):              160.536\n",
      "Skew:                          -0.054   Prob(JB):                     1.38e-35\n",
      "Kurtosis:                       1.777   Cond. No.                     1.07e+16\n",
      "==============================================================================\n",
      "\n",
      "Notes:\n",
      "[1] Standard Errors assume that the covariance matrix of the errors is correctly specified.\n",
      "[2] The smallest eigenvalue is 2.64e-28. This might indicate that there are\n",
      "strong multicollinearity problems or that the design matrix is singular.\n"
     ]
    }
   ],
   "source": [
    "X_train_Sm= sm.add_constant(X_train)\n",
    "X_train_Sm= sm.add_constant(X_train)\n",
    "ls=sm.OLS(y_train,X_train_Sm).fit()\n",
    "print(ls.summary())"
   ]
  },
  {
   "cell_type": "markdown",
   "metadata": {},
   "source": [
    "<div class=\"alert alert-block alert-success\"> <b>R-squared value</b> of <b>0.290</b> is <b>too small</b> (R-squared value indicates strong or weak predictive power). 0.290 basically means that only <b>29%</b> of the total number of incidents can be explained from the data - <b>this is not enough</b>.  <br>\n",
    "\n",
    "This reveals that <b>more holistic driving profiles</b> are needed to perform prescriptive analytics, such as the development of <b>full driver profiles</b>, weather conditions on days that employees drove and an accident <b>NOT</b> happen, etc. </br> </div>"
   ]
  },
  {
   "cell_type": "markdown",
   "metadata": {},
   "source": [
    "## Summary"
   ]
  },
  {
   "cell_type": "markdown",
   "metadata": {},
   "source": [
    "<div class=\"alert alert-block alert-success\"> A <b>regression analysis</b> was performed on the <b>driver data</b> to determine its statistical significance/predictive power to use in a prescriptive ML model. The data includes detailed information about every employee driver who was or was not involved in a traffic incident from 2016-2020. The two datasets used in this report are: <b>Driver Incidents</b> and <b>Driver Trainings</b>. <br>\n",
    "    \n",
    "Both datasets were LEFT joined onto the Driver Trainings dataset to match drivers with their appropriate trainings completed and to eliminate duplicate values. A regression analysis was performed on this compiled dataset to uncover the explainability of the data. </br> <br> \n",
    "\n",
    "An <b>R-squared value</b> of <b>0.290</b> was identified which is <b>very small</b> (R-squared value indicates strong or weak predictive power). 0.290  means that only <b>29%</b> of the total number of incidents can be explained from the data - <b>this is not high enough to rely upon in a predictive model</b>.</br> <br>\n",
    "\n",
    "<b>External factors</b> that are not in the current data play a more crucial role in explaining the causes of the accidents. A more holistic driver profile is needed, such as the road and weather conditions on days a driver does <b>NOT</b> get into an accident. These factors must be captured in order to build a robust predictive model in the future</br> <br>\n",
    "\n",
    "</br><br>\n",
    "\n",
    "It would be helpful if drivers could record their specific routes and the road and weather conditions on EACH day they drive</br>\n",
    "</div>"
   ]
  },
  {
   "cell_type": "markdown",
   "metadata": {},
   "source": [
    "### BEFORE_training correlations"
   ]
  },
  {
   "cell_type": "code",
   "execution_count": 22,
   "metadata": {
    "scrolled": true
   },
   "outputs": [
    {
     "name": "stdout",
     "output_type": "stream",
     "text": [
      "[19:28:34] WARNING: ../src/learner.cc:1095: Starting in XGBoost 1.3.0, the default evaluation metric used with the objective 'binary:logistic' was changed from 'error' to 'logloss'. Explicitly set eval_metric if you'd like to restore the old behavior.\n"
     ]
    },
    {
     "data": {
      "text/plain": [
       "XGBClassifier(base_score=0.5, booster='gbtree', colsample_bylevel=1,\n",
       "              colsample_bynode=1, colsample_bytree=1, gamma=0, gpu_id=-1,\n",
       "              importance_type='gain', interaction_constraints='',\n",
       "              learning_rate=0.300000012, max_delta_step=0, max_depth=6,\n",
       "              min_child_weight=1, missing=nan, monotone_constraints='()',\n",
       "              n_estimators=100, n_jobs=64, num_parallel_tree=1, random_state=0,\n",
       "              reg_alpha=0, reg_lambda=1, scale_pos_weight=1, subsample=1,\n",
       "              tree_method='exact', validate_parameters=1, verbosity=None)"
      ]
     },
     "execution_count": 22,
     "metadata": {},
     "output_type": "execute_result"
    }
   ],
   "source": [
    "model = XGBClassifier()\n",
    "model.fit(X_train, y_train)"
   ]
  },
  {
   "cell_type": "code",
   "execution_count": 23,
   "metadata": {},
   "outputs": [],
   "source": [
    "y_pred = model.predict(X_test)\n",
    "predictions = [round(value) for value in y_pred]"
   ]
  },
  {
   "cell_type": "code",
   "execution_count": 24,
   "metadata": {},
   "outputs": [
    {
     "name": "stdout",
     "output_type": "stream",
     "text": [
      "Accuracy: 73.40%\n"
     ]
    }
   ],
   "source": [
    "from sklearn.metrics import accuracy_score\n",
    "accuracy = accuracy_score(y_test, predictions)\n",
    "print(\"Accuracy: %.2f%%\" % (accuracy * 100))"
   ]
  }
 ],
 "metadata": {
  "kernelspec": {
   "display_name": "Python 3",
   "language": "python",
   "name": "python3"
  },
  "language_info": {
   "codemirror_mode": {
    "name": "ipython",
    "version": 3
   },
   "file_extension": ".py",
   "mimetype": "text/x-python",
   "name": "python",
   "nbconvert_exporter": "python",
   "pygments_lexer": "ipython3",
   "version": "3.6.9"
  }
 },
 "nbformat": 4,
 "nbformat_minor": 2
}
